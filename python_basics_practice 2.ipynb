{
  "metadata": {
    "kernelspec": {
      "language": "python",
      "display_name": "Python 3",
      "name": "python3"
    },
    "language_info": {
      "pygments_lexer": "ipython3",
      "nbconvert_exporter": "python",
      "version": "3.6.4",
      "file_extension": ".py",
      "codemirror_mode": {
        "name": "ipython",
        "version": 3
      },
      "name": "python",
      "mimetype": "text/x-python"
    },
    "kaggle": {
      "accelerator": "none",
      "dataSources": [],
      "isInternetEnabled": false,
      "language": "python",
      "sourceType": "notebook",
      "isGpuEnabled": false
    },
    "colab": {
      "provenance": [],
      "toc_visible": true,
      "include_colab_link": true
    }
  },
  "nbformat_minor": 0,
  "nbformat": 4,
  "cells": [
    {
      "cell_type": "markdown",
      "metadata": {
        "id": "view-in-github",
        "colab_type": "text"
      },
      "source": [
        "<a href=\"https://colab.research.google.com/github/HEMA-55/HEMA-55/blob/main/python_basics_practice%202.ipynb\" target=\"_parent\"><img src=\"https://colab.research.google.com/assets/colab-badge.svg\" alt=\"Open In Colab\"/></a>"
      ]
    },
    {
      "cell_type": "code",
      "source": [
        "# This Python 3 environment comes with many helpful analytics libraries installed\n",
        "# It is defined by the kaggle/python Docker image: https://github.com/kaggle/docker-python\n",
        "# For example, here's several helpful packages to load\n",
        "\n",
        "import numpy as np # linear algebra\n",
        "import pandas as pd # data processing, CSV file I/O (e.g. pd.read_csv)\n",
        "\n",
        "# Input data files are available in the read-only \"../input/\" directory\n",
        "# For example, running this (by clicking run or pressing Shift+Enter) will list all files under the input directory\n",
        "\n",
        "import os\n",
        "for dirname, _, filenames in os.walk('/kaggle/input'):\n",
        "    for filename in filenames:\n",
        "        print(os.path.join(dirname, filename))\n",
        "\n",
        "# You can write up to 20GB to the current directory (/kaggle/working/) that gets preserved as output when you create a version using \"Save & Run All\"\n",
        "# You can also write temporary files to /kaggle/temp/, but they won't be saved outside of the current session"
      ],
      "metadata": {
        "_uuid": "8f2839f25d086af736a60e9eeb907d3b93b6e0e5",
        "_cell_guid": "b1076dfc-b9ad-4769-8c92-a6c4dae69d19",
        "trusted": true,
        "id": "E_gFr7qek9cM"
      },
      "execution_count": null,
      "outputs": []
    },
    {
      "cell_type": "code",
      "source": [
        "if x < 5:\n",
        "    print( x)\n",
        "print (5)\n",
        "\n"
      ],
      "metadata": {
        "id": "ESDf4MLYk9cN",
        "outputId": "06927be1-637c-40fa-f4b7-125517c74757",
        "colab": {
          "base_uri": "https://localhost:8080/",
          "height": 182
        }
      },
      "execution_count": null,
      "outputs": [
        {
          "output_type": "error",
          "ename": "NameError",
          "evalue": "name 'x' is not defined",
          "traceback": [
            "\u001b[0;31m---------------------------------------------------------------------------\u001b[0m",
            "\u001b[0;31mNameError\u001b[0m                                 Traceback (most recent call last)",
            "\u001b[0;32m<ipython-input-2-b29c593485f7>\u001b[0m in \u001b[0;36m<cell line: 1>\u001b[0;34m()\u001b[0m\n\u001b[0;32m----> 1\u001b[0;31m \u001b[0;32mif\u001b[0m \u001b[0mx\u001b[0m \u001b[0;34m<\u001b[0m \u001b[0;36m5\u001b[0m\u001b[0;34m:\u001b[0m\u001b[0;34m\u001b[0m\u001b[0;34m\u001b[0m\u001b[0m\n\u001b[0m\u001b[1;32m      2\u001b[0m     \u001b[0mprint\u001b[0m\u001b[0;34m(\u001b[0m \u001b[0mx\u001b[0m\u001b[0;34m)\u001b[0m\u001b[0;34m\u001b[0m\u001b[0;34m\u001b[0m\u001b[0m\n\u001b[1;32m      3\u001b[0m \u001b[0mprint\u001b[0m \u001b[0;34m(\u001b[0m\u001b[0;36m5\u001b[0m\u001b[0;34m)\u001b[0m\u001b[0;34m\u001b[0m\u001b[0;34m\u001b[0m\u001b[0m\n",
            "\u001b[0;31mNameError\u001b[0m: name 'x' is not defined"
          ]
        }
      ]
    },
    {
      "cell_type": "code",
      "source": [
        "import collections\n",
        "collections.namedtuple?\n"
      ],
      "metadata": {
        "id": "vETS6_1Jk_RX"
      },
      "execution_count": null,
      "outputs": []
    },
    {
      "cell_type": "code",
      "source": [],
      "metadata": {
        "id": "srJOh6jIuzB6"
      },
      "execution_count": null,
      "outputs": []
    },
    {
      "cell_type": "code",
      "source": [
        "import numpy as np\n",
        "np.*mean*?"
      ],
      "metadata": {
        "id": "RLbSh0fbux8H"
      },
      "execution_count": null,
      "outputs": []
    },
    {
      "cell_type": "code",
      "source": [
        "print (\"hi\")"
      ],
      "metadata": {
        "id": "cCBQdqW3wRZq",
        "outputId": "0eae23aa-2bd0-47f4-a0a0-0103aa491128",
        "colab": {
          "base_uri": "https://localhost:8080/"
        }
      },
      "execution_count": null,
      "outputs": [
        {
          "output_type": "stream",
          "name": "stdout",
          "text": [
            "hi\n"
          ]
        }
      ]
    },
    {
      "cell_type": "code",
      "source": [
        "%history"
      ],
      "metadata": {
        "id": "4w0maIIMxH3t",
        "outputId": "ccb8302c-d156-46e8-d4ad-0ef2667e18c7",
        "colab": {
          "base_uri": "https://localhost:8080/"
        }
      },
      "execution_count": null,
      "outputs": [
        {
          "output_type": "stream",
          "name": "stdout",
          "text": [
            "if x < 5:\n",
            "    print x\n",
            "print 5\n",
            "if x < 5:\n",
            "    print( x)\n",
            "print (5)\n",
            "import collections\n",
            "collections.namedtuple?\n",
            "import datastructure\n",
            "datastructure.namedtuple?\n",
            "import collections\n",
            "collections.namedtuple?\n",
            "import numpy as np\n",
            "np.*mean*?\n",
            "import numpy as np\n",
            "np.*mean*?\n",
            "\n",
            "\n",
            "print \"hi\"\n",
            "print \"hi\"\n",
            "print (hi)\n",
            "print (\"hi\")\n",
            "%history\n"
          ]
        }
      ]
    },
    {
      "cell_type": "code",
      "source": [
        "i = 5\n",
        "a =7\n",
        "i ='pavani'\n",
        "print ('Value is ', i) # Error! Notice a single space at the start of the li\n",
        "print ('I repeat, the value is ', i)"
      ],
      "metadata": {
        "id": "05bqfvHPx235",
        "outputId": "07da70cd-2a2b-487f-bbdb-320754a91dbb",
        "colab": {
          "base_uri": "https://localhost:8080/"
        }
      },
      "execution_count": null,
      "outputs": [
        {
          "output_type": "stream",
          "name": "stdout",
          "text": [
            "Value is  pavani\n",
            "I repeat, the value is  pavani\n"
          ]
        }
      ]
    },
    {
      "cell_type": "code",
      "source": [
        "# this is a single line comment\n",
        "'''\n",
        "print(\"We are in a comment\")\n",
        "print (\"We are still in a comment\")\n",
        "'''\n",
        "'''\n",
        "print(\"We are out of the comment\")\n",
        "'''\n",
        "'''\n",
        "print(\"hema\")\n",
        "'''"
      ],
      "metadata": {
        "id": "r1AvhQpE2hr9",
        "outputId": "adb5d933-3238-41a8-98fc-730479c57064",
        "colab": {
          "base_uri": "https://localhost:8080/",
          "height": 36
        }
      },
      "execution_count": null,
      "outputs": [
        {
          "output_type": "execute_result",
          "data": {
            "text/plain": [
              "'\\nprint(\"hema\")\\n'"
            ],
            "application/vnd.google.colaboratory.intrinsic+json": {
              "type": "string"
            }
          },
          "metadata": {},
          "execution_count": 34
        }
      ]
    },
    {
      "cell_type": "code",
      "source": [
        "'''\n",
        "for hema in alist:\n",
        "    if hema < anumber:\n",
        "            print(hema)\n",
        "    else:\n",
        "        print(-pavani)\n",
        "\n",
        "is similar to\n",
        "\n",
        "for x in alist\n",
        "{if x < anumber  {\n",
        "        print(x)\n",
        "    }\n",
        "    else\n",
        "    {\n",
        "        print(-x)\n",
        "    }\n",
        "}\n",
        "'''"
      ],
      "metadata": {
        "id": "afods2lw5D1j",
        "outputId": "4719c587-11c8-4733-cebb-7b83ca27f039",
        "colab": {
          "base_uri": "https://localhost:8080/",
          "height": 90
        }
      },
      "execution_count": null,
      "outputs": [
        {
          "output_type": "execute_result",
          "data": {
            "text/plain": [
              "'\\nfor hema in alist:\\n    if hema < anumber:\\n            print(hema)\\n    else:\\n        print(-pavani)\\n        \\nis similar to\\n\\nfor x in alist \\n{if x < anumber  {\\n        print(x)\\n    }\\n    else\\n    {\\n        print(-x)\\n    }\\n}\\n'"
            ],
            "application/vnd.google.colaboratory.intrinsic+json": {
              "type": "string"
            }
          },
          "metadata": {},
          "execution_count": 37
        }
      ]
    },
    {
      "cell_type": "code",
      "source": [
        "if 4 < 5:\n",
        "  print (4)\n",
        "print (5)"
      ],
      "metadata": {
        "id": "IBsQpIZB6ZPP",
        "outputId": "8562eff5-7153-412e-f86e-0c293c20d73a",
        "colab": {
          "base_uri": "https://localhost:8080/"
        }
      },
      "execution_count": null,
      "outputs": [
        {
          "output_type": "stream",
          "name": "stdout",
          "text": [
            "4\n",
            "5\n"
          ]
        }
      ]
    },
    {
      "cell_type": "code",
      "source": [
        "x = 21\n",
        "y =25\n",
        "print (x)\n",
        "if x<10:\n",
        "    print (x)\n",
        "\n",
        "    print (y)\n"
      ],
      "metadata": {
        "id": "ICFNtlwS7QU3",
        "outputId": "64300172-e7a3-48f1-d422-29fd19571f36",
        "colab": {
          "base_uri": "https://localhost:8080/"
        }
      },
      "execution_count": null,
      "outputs": [
        {
          "output_type": "stream",
          "name": "stdout",
          "text": [
            "21\n"
          ]
        }
      ]
    },
    {
      "cell_type": "code",
      "source": [
        "counter = 100          # An integer assignment\n",
        "miles   = 1000.0       # A floating point\n",
        "name    = 'Ajay'        # A string\n",
        "\n",
        "print (counter)\n",
        "print (miles)\n",
        "print (name)\n",
        "\n",
        "a = 11111\n",
        "b = 2.0\n",
        "c = \"0\"\n",
        "d = \"2\"\n",
        "print(b + a)\n",
        "print(c  + d)"
      ],
      "metadata": {
        "id": "UEiDUHmU-272",
        "outputId": "53096b13-ad8d-4853-cebd-4139021aefe0",
        "colab": {
          "base_uri": "https://localhost:8080/"
        }
      },
      "execution_count": null,
      "outputs": [
        {
          "output_type": "stream",
          "name": "stdout",
          "text": [
            "100\n",
            "1000.0\n",
            "Ajay\n",
            "11113.0\n",
            "02\n"
          ]
        }
      ]
    },
    {
      "cell_type": "code",
      "source": [
        "str = 'Hello World'\n",
        "print (str)    # prints complete string\n",
        "print (str[0]) # prints first character of string\n",
        "print (str[2:5])  #prints characters starting from 3rd to 5th\n",
        "print (str[2:])    #prints string starting from 3rd character\n",
        "print ((str*11))    #prints string two times\n",
        "print (str + \"TEST\")   # prints concatenated string"
      ],
      "metadata": {
        "id": "gybuhByKBVCA",
        "outputId": "60c280da-bbad-4eed-9fe3-6e0acc6b6070",
        "colab": {
          "base_uri": "https://localhost:8080/"
        }
      },
      "execution_count": null,
      "outputs": [
        {
          "output_type": "stream",
          "name": "stdout",
          "text": [
            "Hello World\n",
            "H\n",
            "llo\n",
            "llo World\n",
            "Hello WorldHello WorldHello WorldHello WorldHello WorldHello WorldHello WorldHello WorldHello WorldHello WorldHello World\n",
            "Hello WorldTEST\n"
          ]
        }
      ]
    },
    {
      "cell_type": "code",
      "source": [
        "\n",
        "str =\"hello\"\n",
        "print(str[-1])\n",
        "\n",
        "a = 'this is a string'\n",
        "b = a.replace('string','longer string')\n",
        "print(a)\n",
        "print(b)\n",
        "\n",
        "a = '20'\n",
        "anum = int(a)\n",
        "print(anum + anum)\n",
        "\n",
        "a = \"10\"\n",
        "anum = int(a)\n",
        "print(anum)"
      ],
      "metadata": {
        "id": "zQxEjqAoClXc",
        "outputId": "ba1c927e-fc26-4754-ecdf-3e6ff14d8398",
        "colab": {
          "base_uri": "https://localhost:8080/"
        }
      },
      "execution_count": null,
      "outputs": [
        {
          "output_type": "stream",
          "name": "stdout",
          "text": [
            "o\n",
            "this is a string\n",
            "this is a longer string\n",
            "40\n",
            "10\n"
          ]
        }
      ]
    },
    {
      "cell_type": "code",
      "source": [
        "a = \"hi\"\n",
        "print (a)\n",
        "print (len(a))\n"
      ],
      "metadata": {
        "id": "r5RQ3CU2skyT",
        "outputId": "063de8e6-9436-486c-8164-b8f19ab0f3d5",
        "colab": {
          "base_uri": "https://localhost:8080/"
        }
      },
      "execution_count": null,
      "outputs": [
        {
          "output_type": "stream",
          "name": "stdout",
          "text": [
            "hi\n",
            "2\n"
          ]
        }
      ]
    },
    {
      "cell_type": "code",
      "source": [
        "string = \"This is python\"\n",
        "strlist = list(string)\n",
        "print(strlist)\n",
        "\n"
      ],
      "metadata": {
        "id": "DOXBrLtVswFm",
        "outputId": "48dbb063-e88f-4fc0-b655-cd7d5a6b8a22",
        "colab": {
          "base_uri": "https://localhost:8080/"
        }
      },
      "execution_count": null,
      "outputs": [
        {
          "output_type": "stream",
          "name": "stdout",
          "text": [
            "['T', 'h', 'i', 's', ' ', 'i', 's', ' ', 'p', 'y', 't', 'h', 'o', 'n']\n"
          ]
        }
      ]
    },
    {
      "cell_type": "code",
      "source": [
        "format = '%.2f %s is $%d'\n",
        "format %(83.5560,'Indian Rupees',1)\n"
      ],
      "metadata": {
        "id": "ccnfzIeCtAQF",
        "outputId": "1a937561-64c0-48a8-d66f-bd0779919df7",
        "colab": {
          "base_uri": "https://localhost:8080/",
          "height": 36
        }
      },
      "execution_count": null,
      "outputs": [
        {
          "output_type": "execute_result",
          "data": {
            "text/plain": [
              "'83.56 Indian Rupees is $1'"
            ],
            "application/vnd.google.colaboratory.intrinsic+json": {
              "type": "string"
            }
          },
          "metadata": {},
          "execution_count": 8
        }
      ]
    },
    {
      "cell_type": "code",
      "source": [
        "print (string.count('s'))\n",
        "print (string.split(' '))\n",
        "print (string.upper())\n",
        "print (string.lower())\n",
        "print (string.swapcase())"
      ],
      "metadata": {
        "id": "4juXaco-tm-o",
        "outputId": "b4a4110a-04f2-494c-8f92-0d5486eb6185",
        "colab": {
          "base_uri": "https://localhost:8080/"
        }
      },
      "execution_count": null,
      "outputs": [
        {
          "output_type": "stream",
          "name": "stdout",
          "text": [
            "2\n",
            "['This', 'is', 'python']\n",
            "THIS IS PYTHON\n",
            "this is python\n",
            "tHIS IS PYTHON\n"
          ]
        }
      ]
    },
    {
      "cell_type": "code",
      "source": [
        "str1 = \"    This is a bright, sunny day      \"\n",
        "print (str1.strip())\n",
        "print (str1.lstrip())\n",
        "print (str1.rstrip())\n",
        "print (\":\".join(str1))\n",
        "print (len(str1))\n"
      ],
      "metadata": {
        "id": "YWlZYyZIt0NG",
        "outputId": "744ea5c9-61da-4395-f0b7-cf69c159af87",
        "colab": {
          "base_uri": "https://localhost:8080/"
        }
      },
      "execution_count": null,
      "outputs": [
        {
          "output_type": "stream",
          "name": "stdout",
          "text": [
            "This is a bright, sunny day\n",
            "This is a bright, sunny day      \n",
            "    This is a bright, sunny day\n",
            " : : : :T:h:i:s: :i:s: :a: :b:r:i:g:h:t:,: :s:u:n:n:y: :d:a:y: : : : : : \n",
            "37\n"
          ]
        }
      ]
    },
    {
      "cell_type": "code",
      "source": [
        "\n",
        "school = 'ISB'\n",
        "print ('S' in school)\n",
        "'L' in school\n",
        "\n"
      ],
      "metadata": {
        "id": "eJ52MTfLCj3l",
        "outputId": "bfcfd512-dc59-4836-8ba2-e976b3a0f13d",
        "colab": {
          "base_uri": "https://localhost:8080/"
        }
      },
      "execution_count": null,
      "outputs": [
        {
          "output_type": "stream",
          "name": "stdout",
          "text": [
            "True\n"
          ]
        },
        {
          "output_type": "execute_result",
          "data": {
            "text/plain": [
              "False"
            ]
          },
          "metadata": {},
          "execution_count": 12
        }
      ]
    },
    {
      "cell_type": "code",
      "source": [
        " x='X-DSPAM-Confidence:   0.9032'\n",
        "pos = x.find(':')\n",
        "num=float(x[pos+1:])\n",
        "print (num, type(num))\n"
      ],
      "metadata": {
        "colab": {
          "base_uri": "https://localhost:8080/"
        },
        "id": "Mtg40ELCIBnX",
        "outputId": "6482d467-a9b3-491c-cc7a-4e9f3349651f"
      },
      "execution_count": null,
      "outputs": [
        {
          "output_type": "stream",
          "name": "stdout",
          "text": [
            "0.9032 <class 'float'>\n"
          ]
        }
      ]
    },
    {
      "cell_type": "code",
      "source": [
        "#Let us do some exercises\n",
        "#1\n",
        "#Given below string, get first 10 characters, and last 10 characters.\n",
        "#Now join them to form a new string\n",
        "\n",
        "str = 'Hey how are you doing. We are doing good'\n",
        "print (str[0:10], str[-10:])\n"
      ],
      "metadata": {
        "colab": {
          "base_uri": "https://localhost:8080/"
        },
        "id": "ZjpSZ1-2np7G",
        "outputId": "7547767f-6bbd-484f-9286-492036545c19"
      },
      "execution_count": null,
      "outputs": [
        {
          "output_type": "stream",
          "name": "stdout",
          "text": [
            "Hey how ar doing good\n"
          ]
        }
      ]
    },
    {
      "cell_type": "code",
      "source": [
        "#Consider two strings x and y\n",
        "x = 'Confusing'\n",
        "y = 'Strings'\n",
        "str = 'con_str'\n",
        "print(str)\n",
        "#Swap first three characters of each string and join them by an _"
      ],
      "metadata": {
        "colab": {
          "base_uri": "https://localhost:8080/"
        },
        "id": "OWarUDCduzLe",
        "outputId": "fcc2c355-acf7-4ed4-d943-e4ebc560358e"
      },
      "execution_count": null,
      "outputs": [
        {
          "output_type": "stream",
          "name": "stdout",
          "text": [
            "con_str\n"
          ]
        }
      ]
    },
    {
      "cell_type": "code",
      "source": [
        "\n",
        "list = [ 'abcd', 786 , 2.23, 'ISB', 70.2 ]\n",
        "tinylist = [123, 'ISB']\n",
        "\n",
        "print (list)          # Prints complete list\n",
        "print (list[0])       # Prints first element of the list\n",
        "print (list[1:3])     # Prints elements starting from 2nd till 3rd\n",
        "print (list[2:])      # Prints elements starting from 3rd element\n",
        "print (tinylist * 2)  # Prints list two times\n",
        "print (list + tinylist) # Prints concatenated lists\n",
        "print (len(list))\n"
      ],
      "metadata": {
        "colab": {
          "base_uri": "https://localhost:8080/"
        },
        "id": "3Zb2hCDzwCA5",
        "outputId": "b1f16715-96f1-42fd-910e-e71323699b89"
      },
      "execution_count": null,
      "outputs": [
        {
          "output_type": "stream",
          "name": "stdout",
          "text": [
            "['abcd', 786, 2.23, 'ISB', 70.2]\n",
            "abcd\n",
            "[786, 2.23]\n",
            "[2.23, 'ISB', 70.2]\n",
            "[123, 'ISB', 123, 'ISB']\n",
            "['abcd', 786, 2.23, 'ISB', 70.2, 123, 'ISB']\n",
            "5\n"
          ]
        }
      ]
    },
    {
      "cell_type": "code",
      "source": [
        "alist = [ 'abcd', 786 , 2.23, 'ISB', 70.2 ]\n",
        "blist = alist\n",
        "alist = alist*2\n",
        "print (alist)"
      ],
      "metadata": {
        "colab": {
          "base_uri": "https://localhost:8080/"
        },
        "id": "S-U0HM7j1Beb",
        "outputId": "a6eabe09-fd69-4ca0-ddf5-b3e1a2016cd9"
      },
      "execution_count": null,
      "outputs": [
        {
          "output_type": "stream",
          "name": "stdout",
          "text": [
            "['abcd', 786, 2.23, 'ISB', 70.2, 'abcd', 786, 2.23, 'ISB', 70.2]\n"
          ]
        }
      ]
    },
    {
      "cell_type": "code",
      "source": [
        "list = ['Ajay', 'Vijay', 'Ramesh']\n",
        "list.append('Sujay')\n",
        "list.insert(0, 'NewGuy')\n",
        "list.extend(['Guy1', 'Guy2'])\n",
        "print (list)\n",
        "print (list.index('Guy1') )\n",
        "list.remove('Guy1')\n",
        "list.pop(1)\n",
        "print (list)"
      ],
      "metadata": {
        "colab": {
          "base_uri": "https://localhost:8080/"
        },
        "id": "pQM-hSwh1iDw",
        "outputId": "d14c57f6-bf01-4b3b-f8ef-3b2cb4afa81e"
      },
      "execution_count": null,
      "outputs": [
        {
          "output_type": "stream",
          "name": "stdout",
          "text": [
            "['NewGuy', 'Ajay', 'Vijay', 'Ramesh', 'Sujay', 'Guy1', 'Guy2']\n",
            "5\n",
            "['NewGuy', 'Vijay', 'Ramesh', 'Sujay', 'Guy2']\n"
          ]
        }
      ]
    },
    {
      "cell_type": "code",
      "source": [
        "#Sorting\n",
        "numberlist = [1, 5, 23, 1 ,54,2, 54,23, 54,76, 76,34,87]\n",
        "numberlist.sort()\n",
        "print(numberlist)\n",
        "print (len(numberlist))\n",
        "print ( max(numberlist))\n",
        "print (min(numberlist))"
      ],
      "metadata": {
        "colab": {
          "base_uri": "https://localhost:8080/"
        },
        "id": "jCXNTVmfOH7M",
        "outputId": "14c6e4fb-e34e-473c-9110-04bed3430d73"
      },
      "execution_count": null,
      "outputs": [
        {
          "output_type": "stream",
          "name": "stdout",
          "text": [
            "[1, 1, 2, 5, 23, 23, 34, 54, 54, 54, 76, 76, 87]\n",
            "13\n",
            "87\n",
            "1\n"
          ]
        }
      ]
    },
    {
      "cell_type": "code",
      "source": [
        "string = ['abcd', 'efg', 'hijk', 'lmn']\n",
        "print (sorted(string, key=len))\n"
      ],
      "metadata": {
        "colab": {
          "base_uri": "https://localhost:8080/"
        },
        "id": "S3QTeujycj3T",
        "outputId": "115babb3-d0b3-4e5a-ef39-173567926303"
      },
      "execution_count": null,
      "outputs": [
        {
          "output_type": "stream",
          "name": "stdout",
          "text": [
            "['efg', 'lmn', 'abcd', 'hijk']\n"
          ]
        }
      ]
    },
    {
      "cell_type": "code",
      "source": [
        "#You can even pass your own function\n",
        "string = ['abcg', 'eff', 'hijd', 'lmi']\n",
        "\n",
        "def func1(l):\n",
        "    return l[-1]\n",
        "\n",
        "print (sorted(string, key=func1))\n"
      ],
      "metadata": {
        "colab": {
          "base_uri": "https://localhost:8080/"
        },
        "id": "NsxwMuVec2VD",
        "outputId": "f1352cc3-42f9-4fde-f012-0232a61fce61"
      },
      "execution_count": null,
      "outputs": [
        {
          "output_type": "stream",
          "name": "stdout",
          "text": [
            "['hijd', 'eff', 'abcg', 'lmi']\n"
          ]
        }
      ]
    },
    {
      "cell_type": "code",
      "source": [
        "string = ['abcg', 'eff', 'hijd', 'lmi']\n",
        "\n",
        "def func1(l):\n",
        "    return l[-2]\n",
        "\n",
        "print (sorted(string, key=func1))\n"
      ],
      "metadata": {
        "colab": {
          "base_uri": "https://localhost:8080/"
        },
        "id": "0TPPpvWb487T",
        "outputId": "fb52711f-b3d8-4159-a107-b509d0866201"
      },
      "execution_count": 1,
      "outputs": [
        {
          "output_type": "stream",
          "name": "stdout",
          "text": [
            "['abcg', 'eff', 'hijd', 'lmi']\n"
          ]
        }
      ]
    },
    {
      "cell_type": "code",
      "source": [
        "dict = {}\n",
        "dict['one'] = \"This is one\"\n",
        "dict[2]     = \"This is two\"\n",
        "tinydict = {'name': 'isb','code':6734, 'dept': 'sales'}\n",
        "\n",
        "print (dict['one'])       # Prints value for 'one' key\n",
        "print (dict[2])           # Prints value for 2 key\n",
        "print (tinydict)          # Prints complete dictionary\n",
        "print (tinydict.keys())   # Prints all the keys\n",
        "print (tinydict.values()) # Prints all the values"
      ],
      "metadata": {
        "colab": {
          "base_uri": "https://localhost:8080/"
        },
        "id": "5zCfZlJr66Rq",
        "outputId": "69e6ffcc-e37a-4d67-9462-7f2c4f4c4843"
      },
      "execution_count": 2,
      "outputs": [
        {
          "output_type": "stream",
          "name": "stdout",
          "text": [
            "This is one\n",
            "This is two\n",
            "{'name': 'isb', 'code': 6734, 'dept': 'sales'}\n",
            "dict_keys(['name', 'code', 'dept'])\n",
            "dict_values(['isb', 6734, 'sales'])\n"
          ]
        }
      ]
    },
    {
      "cell_type": "code",
      "source": [
        "a = 6\n",
        "b = 7\n",
        "c = 42\n",
        "print (1, a == 6)\n",
        "print (2, a == 7)\n",
        "print (3, a == 6 and b == 7)\n",
        "print (4, a == 7 and b == 7)\n",
        "print (5, not a == 7 and b == 7)\n",
        "print (6, a == 7 or b == 7)\n",
        "print (7, a == 7 or b == 6)\n",
        "print (8, not (a == 7 and b == 6))\n",
        "print (9, not a == 7 and b == 6)\n"
      ],
      "metadata": {
        "colab": {
          "base_uri": "https://localhost:8080/"
        },
        "id": "__LMFIFVoQ1U",
        "outputId": "fed876d3-ce2f-419d-bcd1-d5162be26352"
      },
      "execution_count": 1,
      "outputs": [
        {
          "output_type": "stream",
          "name": "stdout",
          "text": [
            "1 True\n",
            "2 False\n",
            "3 True\n",
            "4 False\n",
            "5 True\n",
            "6 True\n",
            "7 False\n",
            "8 True\n",
            "9 False\n"
          ]
        }
      ]
    },
    {
      "cell_type": "code",
      "source": [
        "a = 20\n",
        "if a >= 22:\n",
        "\n",
        "   print(\"if\")\n",
        "elif a >= 21:\n",
        "   print(\"elif\")\n",
        "else:\n",
        "   print(\"else\")\n"
      ],
      "metadata": {
        "colab": {
          "base_uri": "https://localhost:8080/"
        },
        "id": "e9rOgn2FqRxu",
        "outputId": "3f3f2d3d-240f-479a-b601-6399f48e813c"
      },
      "execution_count": 2,
      "outputs": [
        {
          "output_type": "stream",
          "name": "stdout",
          "text": [
            "else\n"
          ]
        }
      ]
    },
    {
      "cell_type": "code",
      "source": [
        "list = ['Ajay', 'Vijay', 'Ramesh']\n",
        "if 'Vijay' in list:\n",
        "    print ('Found Vijay')\n"
      ],
      "metadata": {
        "colab": {
          "base_uri": "https://localhost:8080/"
        },
        "id": "cXPdWBHtqaLn",
        "outputId": "1f49899b-c7ad-42f8-d5b4-91afb464355e"
      },
      "execution_count": 4,
      "outputs": [
        {
          "output_type": "stream",
          "name": "stdout",
          "text": [
            "Found Vijay\n"
          ]
        }
      ]
    },
    {
      "cell_type": "code",
      "source": [
        "count = 0\n",
        "while (count < 9):\n",
        "   print ('The count is:', count)\n",
        "   count = count + 1\n",
        "\n",
        "print (\"End of while loop!\")"
      ],
      "metadata": {
        "colab": {
          "base_uri": "https://localhost:8080/"
        },
        "id": "zeShr_1lrmHD",
        "outputId": "887d880e-b823-48a8-9325-349ce0e7c465"
      },
      "execution_count": 5,
      "outputs": [
        {
          "output_type": "stream",
          "name": "stdout",
          "text": [
            "The count is: 0\n",
            "The count is: 1\n",
            "The count is: 2\n",
            "The count is: 3\n",
            "The count is: 4\n",
            "The count is: 5\n",
            "The count is: 6\n",
            "The count is: 7\n",
            "The count is: 8\n",
            "End of while loop!\n"
          ]
        }
      ]
    },
    {
      "cell_type": "code",
      "source": [
        "count = 0\n",
        "while (count < 9):\n",
        "   count = count + 1\n",
        "   print (\"End of while loop!\")"
      ],
      "metadata": {
        "colab": {
          "base_uri": "https://localhost:8080/"
        },
        "id": "VlWOzlpdsgt8",
        "outputId": "c4facc85-7e4a-4fbb-aab0-88a4b15949ec"
      },
      "execution_count": 9,
      "outputs": [
        {
          "output_type": "stream",
          "name": "stdout",
          "text": [
            "End of while loop!\n",
            "End of while loop!\n",
            "End of while loop!\n",
            "End of while loop!\n",
            "End of while loop!\n",
            "End of while loop!\n",
            "End of while loop!\n",
            "End of while loop!\n",
            "End of while loop!\n"
          ]
        }
      ]
    },
    {
      "cell_type": "code",
      "source": [
        "for i in range(1,5,2):\n",
        "    print (i)\n",
        "#else:\n",
        "#   print \"The for loop is over\"\n"
      ],
      "metadata": {
        "colab": {
          "base_uri": "https://localhost:8080/"
        },
        "id": "qAbD0t2ouRXb",
        "outputId": "37c72095-7e60-4ebf-d07e-f76f7be30c51"
      },
      "execution_count": 10,
      "outputs": [
        {
          "output_type": "stream",
          "name": "stdout",
          "text": [
            "1\n",
            "3\n"
          ]
        }
      ]
    },
    {
      "cell_type": "code",
      "source": [
        "for i in range(1,5,2):\n",
        "  print (i)\n",
        "else:\n",
        "    print (\"The for loop is over\")"
      ],
      "metadata": {
        "colab": {
          "base_uri": "https://localhost:8080/"
        },
        "id": "YetXY06Jzm-o",
        "outputId": "9c612413-bbc4-4f46-e6eb-48f23154f258"
      },
      "execution_count": 12,
      "outputs": [
        {
          "output_type": "stream",
          "name": "stdout",
          "text": [
            "1\n",
            "3\n",
            "The for loop is over\n"
          ]
        }
      ]
    },
    {
      "cell_type": "code",
      "source": [
        "#Traversing a list\n",
        "#What is the output\n",
        "numbers = [2, 3, 5]\n",
        "sum = 0\n",
        "for num in numbers:\n",
        "    sum += num\n",
        "print (sum)\n"
      ],
      "metadata": {
        "colab": {
          "base_uri": "https://localhost:8080/"
        },
        "id": "ohQTi7-rz-NM",
        "outputId": "48032400-915a-4df1-89c3-adf45a85201c"
      },
      "execution_count": 16,
      "outputs": [
        {
          "output_type": "stream",
          "name": "stdout",
          "text": [
            "10\n"
          ]
        }
      ]
    },
    {
      "cell_type": "code",
      "source": [
        "numbers = [2, 3, 5]\n",
        "getsum = [ i+2 for i in numbers ]\n",
        "print (getsum)\n"
      ],
      "metadata": {
        "colab": {
          "base_uri": "https://localhost:8080/"
        },
        "id": "rj1U9gTl0uhD",
        "outputId": "ecef9545-ef83-4b64-d889-5164670eaf7b"
      },
      "execution_count": 14,
      "outputs": [
        {
          "output_type": "stream",
          "name": "stdout",
          "text": [
            "[4, 5, 7]\n"
          ]
        }
      ]
    },
    {
      "cell_type": "code",
      "source": [
        "for i in range(1,10):\n",
        "       if i == 5:\n",
        "           break\n",
        "       print (i)\n",
        "print('Done')\n"
      ],
      "metadata": {
        "colab": {
          "base_uri": "https://localhost:8080/"
        },
        "id": "OIjAe8ct5E2N",
        "outputId": "46b8ad85-550a-4451-84f1-1a6e69ad052f"
      },
      "execution_count": 17,
      "outputs": [
        {
          "output_type": "stream",
          "name": "stdout",
          "text": [
            "1\n",
            "2\n",
            "3\n",
            "4\n",
            "Done\n"
          ]
        }
      ]
    }
  ]
}